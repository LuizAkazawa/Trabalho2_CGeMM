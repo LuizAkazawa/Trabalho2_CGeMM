{
 "cells": [
  {
   "cell_type": "code",
   "execution_count": 1,
   "id": "a328b2c2-f3d7-45e8-9324-c0c04e2be23e",
   "metadata": {
    "scrolled": true
   },
   "outputs": [],
   "source": [
    "import moviepy.editor as mpe\n",
    "import numpy as np\n",
    "import matplotlib.pyplot as plt"
   ]
  },
  {
   "cell_type": "code",
   "execution_count": 2,
   "id": "63503e4e-797c-4532-b2db-b33318282e54",
   "metadata": {},
   "outputs": [],
   "source": [
    "video = mpe.VideoFileClip(\"./trabalho2/yoshi.mp4\")\n",
    "#video = video.subclip(0, 119) #video reduzido para ser possível reproduzí-lo\n",
    "\n",
    "\n",
    "#video.ipython_display(width=480, maxduration=120)"
   ]
  },
  {
   "cell_type": "code",
   "execution_count": 3,
   "id": "6ff2103e-7f01-46ba-a703-aed1b79a5948",
   "metadata": {
    "scrolled": true
   },
   "outputs": [],
   "source": [
    "def invert(frame):\n",
    "    img = np.zeros(shape=frame.shape, dtype=np.uint8)\n",
    "    img[::-1, ::1] = frame\n",
    "    return img\n"
   ]
  },
  {
   "cell_type": "code",
   "execution_count": 4,
   "id": "991e61e8-7e09-4169-8c45-8b6ddd363e2d",
   "metadata": {},
   "outputs": [],
   "source": [
    "#Inverter a imagem, no eixo, a cada 20 segundo\n",
    "\n",
    "t = 20\n",
    "memo = list()\n",
    "sub_inicio = video.subclip(0, 20)\n",
    "rep = int(video.duration//t)\n",
    "\n",
    "for x in range(rep):\n",
    "    if video.duration > t + 20:\n",
    "        sub_aux = video.subclip(t, t + 20).fl_image(invert)\n",
    "        video = video.fl_image(invert)\n",
    "    else:\n",
    "        sub_aux = video.subclip(t).fl_image(invert)\n",
    "        video = video.fl_image(invert)\n",
    "    memo.append(sub_aux)\n",
    "    t+=20\n",
    "\n",
    "\n",
    "video_inver = mpe.concatenate_videoclips([sub_inicio, memo[0], memo[1], memo[2], memo[3], memo[4]])\n",
    "#video_inver.ipython_display(width=480, maxduration=120)\n",
    "    \n",
    "    "
   ]
  },
  {
   "cell_type": "code",
   "execution_count": 5,
   "id": "4be5dea1-257c-46ff-accf-79ad5e79c64a",
   "metadata": {
    "scrolled": true
   },
   "outputs": [],
   "source": [
    "def decrease(audio, t):\n",
    "    t1 = 0\n",
    "    frame = audio(t)\n",
    "    factor = 1\n",
    "\n",
    "    if np.any(t >= video.duration - 10):\n",
    "        frame[:, 0] = 0  \n",
    "        frame[:, 1] = 0  \n",
    "\n",
    "    else:\n",
    "        t1 = (t[0] // 30) * 30\n",
    "\n",
    "    factor = 1 - (t1 / video.duration)\n",
    "\n",
    "    frame[:, 0] *= factor\n",
    "    frame[:, 1] *= factor\n",
    "\n",
    "    return frame\n",
    "\n",
    "audio_decrease = video_inver.audio.fl(decrease)\n",
    "video_audio_decrease = video_inver.set_audio(audio_decrease)\n",
    "\n",
    "#video_audio_decrease.ipython_display(width=480, maxduration=120)"
   ]
  },
  {
   "cell_type": "code",
   "execution_count": 6,
   "id": "a90a3b8c-49fa-4abc-b2cf-e0e98c79f6fe",
   "metadata": {},
   "outputs": [],
   "source": [
    "part1 = video_audio_decrease.subclip(0, 60)\n",
    "part2 = video_audio_decrease.subclip(80)\n",
    "part3 = video_audio_decrease.subclip(60,80)\n",
    "\n",
    "video_final = mpe.concatenate_videoclips([part1, part2, part3])\n",
    "#video_final.ipython_display(width=480, maxduration=120)\n",
    "\n",
    "\n"
   ]
  },
  {
   "cell_type": "code",
   "execution_count": 7,
   "id": "7a66075d",
   "metadata": {},
   "outputs": [
    {
     "name": "stdout",
     "output_type": "stream",
     "text": [
      "Moviepy - Building video video_final.mp4.\n",
      "MoviePy - Writing audio in video_finalTEMP_MPY_wvf_snd.mp3\n"
     ]
    },
    {
     "name": "stderr",
     "output_type": "stream",
     "text": [
      "                                                                                                                                                                           \r"
     ]
    },
    {
     "name": "stdout",
     "output_type": "stream",
     "text": [
      "MoviePy - Done.\n",
      "Moviepy - Writing video video_final.mp4\n",
      "\n"
     ]
    },
    {
     "name": "stderr",
     "output_type": "stream",
     "text": [
      "                                                                                                                                                                           \r"
     ]
    },
    {
     "name": "stdout",
     "output_type": "stream",
     "text": [
      "Moviepy - Done !\n",
      "Moviepy - video ready video_final.mp4\n"
     ]
    }
   ],
   "source": [
    "video_final.write_videofile(\"video_final.mp4\")"
   ]
  }
 ],
 "metadata": {
  "kernelspec": {
   "display_name": "Python 3 (ipykernel)",
   "language": "python",
   "name": "python3"
  },
  "language_info": {
   "codemirror_mode": {
    "name": "ipython",
    "version": 3
   },
   "file_extension": ".py",
   "mimetype": "text/x-python",
   "name": "python",
   "nbconvert_exporter": "python",
   "pygments_lexer": "ipython3",
   "version": "3.12.7"
  }
 },
 "nbformat": 4,
 "nbformat_minor": 5
}
